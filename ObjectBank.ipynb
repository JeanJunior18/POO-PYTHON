{
 "cells": [
  {
   "cell_type": "code",
   "execution_count": 47,
   "metadata": {},
   "outputs": [],
   "source": [
    "import sqlite3 as sq\n",
    "import csv"
   ]
  },
  {
   "cell_type": "code",
   "execution_count": 17,
   "metadata": {
    "colab": {},
    "colab_type": "code",
    "id": "NryAG1Szzwo-"
   },
   "outputs": [],
   "source": [
    "dbfile = \"poo-bank-db.db\"\n",
    "database = open(dbfile,\"w\")\n",
    "database.close()"
   ]
  },
  {
   "cell_type": "code",
   "execution_count": 18,
   "metadata": {},
   "outputs": [],
   "source": [
    "con = sq.connect(dbfile)\n",
    "cursor = con.cursor()\n",
    "cursor.execute(\"\"\"\n",
    "    CREATE TABLE USERS(\n",
    "        id integer primary key autoincrement not null,\n",
    "        conta integer not null,\n",
    "        nome text not null,\n",
    "        cpf text not null,\n",
    "        data text not null\n",
    "    );\n",
    "\"\"\")\n",
    "con.close()"
   ]
  },
  {
   "cell_type": "code",
   "execution_count": 96,
   "metadata": {
    "colab": {},
    "colab_type": "code",
    "id": "AoUFE2iYtfrH"
   },
   "outputs": [],
   "source": [
    "class contaBanco():\n",
    "    def __init__(self, nome, cpf): \n",
    "        self.nome = nome\n",
    "        self.cpf = cpf\n",
    "        self.saldo = 0\n",
    "        self.savedb()\n",
    "        self.logTable()\n",
    "        \n",
    "    def globalid():\n",
    "        pass\n",
    "\n",
    "    def savedb(self):\n",
    "        print(\"O método foi chamado com sucesso\")\n",
    "        from datetime import datetime\n",
    "        data = datetime.now().today()\n",
    "        dados = [(self.nome,self.cpf,data)]\n",
    "        con = sq.connect(dbfile)\n",
    "        cursor = con.cursor()\n",
    "        cursor.executemany(\"\"\"\n",
    "            insert into USERS (nome, cpf, data)\n",
    "            values(?,?,?)\n",
    "        \"\"\", dados)\n",
    "        con.commit()\n",
    "        con.close()\n",
    "        \n",
    "    def logTable(self):\n",
    "        logFile = self.nome + \".csv\"\n",
    "        with open(logFile, \"w\") as tit:\n",
    "            wrt = csv.writer(tit)\n",
    "            wrt.writerow(['Operation','Value','Balance','Date'])"
   ]
  },
  {
   "cell_type": "code",
   "execution_count": 97,
   "metadata": {
    "colab": {},
    "colab_type": "code",
    "id": "G0HBmi1Bt1hs"
   },
   "outputs": [],
   "source": [
    "class contaCorrente(contaBanco):\n",
    "    def __init__(self,nome, cpf):\n",
    "        contaBanco.__init__(self,nome,cpf)\n",
    "\n",
    "    def depositar(self, valor):\n",
    "        self.saldo += valor\n",
    "        self.logUsers(\"Depósito\",valor)\n",
    "    \n",
    "    def sacar(self, valor):\n",
    "        if(self.saldo>=valor):\n",
    "            self.saldo -= valor\n",
    "            self.logUsers(\"Saque\", valor)\n",
    "        else:\n",
    "            print(\"Transação Não Autorizada\")\n",
    "            self.logUsers(\"Saque\", \"Recusado\")\n",
    "        \n",
    "    def hora(self):\n",
    "        from datetime import datetime\n",
    "        return datetime.now().today()\n",
    "            \n",
    "    def logUsers(self, oper, val):\n",
    "        logFile = self.nome + \".csv\"\n",
    "        with open(logFile, \"a\") as log:\n",
    "            wrt = csv.writer(log)\n",
    "            wrt.writerow([oper, val, self.saldo, self.hora()])\n"
   ]
  },
  {
   "cell_type": "code",
   "execution_count": 98,
   "metadata": {},
   "outputs": [
    {
     "name": "stdout",
     "output_type": "stream",
     "text": [
      "O método foi chamado com sucesso\n"
     ]
    }
   ],
   "source": [
    "conta01 = contaCorrente(\"Jean Charles\", \"67890\")"
   ]
  },
  {
   "cell_type": "code",
   "execution_count": 101,
   "metadata": {},
   "outputs": [],
   "source": [
    "conta01.depositar(5000)"
   ]
  },
  {
   "cell_type": "code",
   "execution_count": 81,
   "metadata": {},
   "outputs": [],
   "source": [
    "con = sq.connect(dbfile)\n",
    "cursor = con.cursor()\n",
    "\n",
    "cursor.execute(\"\"\"\n",
    "    select * from USERS\n",
    "\"\"\")\n",
    "\n",
    "for linha in cursor.fetchall():\n",
    "    print(linha)\n",
    "\n",
    "con.close()"
   ]
  },
  {
   "cell_type": "code",
   "execution_count": 80,
   "metadata": {},
   "outputs": [],
   "source": [
    "con = sq.connect(dbfile)\n",
    "cursor = con.cursor()\n",
    "\n",
    "cursor.execute(\"\"\"\n",
    "    delete from USERS\n",
    "    where id = 11\n",
    "\"\"\")\n",
    "\n",
    "con.commit()\n",
    "con.close()"
   ]
  }
 ],
 "metadata": {
  "colab": {
   "name": "ObjectBank.ipynb",
   "provenance": []
  },
  "kernelspec": {
   "display_name": "Python 3",
   "language": "python",
   "name": "python3"
  },
  "language_info": {
   "codemirror_mode": {
    "name": "ipython",
    "version": 3
   },
   "file_extension": ".py",
   "mimetype": "text/x-python",
   "name": "python",
   "nbconvert_exporter": "python",
   "pygments_lexer": "ipython3",
   "version": "3.7.4"
  }
 },
 "nbformat": 4,
 "nbformat_minor": 4
}
